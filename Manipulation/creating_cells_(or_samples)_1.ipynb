{
 "cells": [
  {
   "cell_type": "code",
   "execution_count": 1,
   "metadata": {},
   "outputs": [],
   "source": [
    "import glob as glb\n",
    "import pandas as pd\n",
    "import numpy as np\n",
    "import os"
   ]
  },
  {
   "cell_type": "code",
   "execution_count": null,
   "metadata": {},
   "outputs": [],
   "source": [
    "path_pattern = \"./DikeDataset/files/benign/*.exe\"\n",
    "\n",
    "files = glb.glob(path_pattern)\n",
    "\n",
    "i = 0\n",
    "\n",
    "file_names = []\n",
    "data_lens = []\n",
    "\n",
    "for file in files:\n",
    "    file_name = f\"sample{i}\"\n",
    "    \n",
    "    if not os.path.isdir(\"./Dataset/samples\"):\n",
    "        os.mkdir(\"Dataset/samples\")\n",
    "\n",
    "    file_path = f\"./Dataset/samples/{file_name}.parquet\"\n",
    "\n",
    "    binaries = np.fromfile(file, dtype=np.uint8)\n",
    "\n",
    "    data = pd.DataFrame(binaries)\n",
    "\n",
    "    data.to_parquet(file_path)\n",
    "\n",
    "    file_names.append(file_name)\n",
    "    data_lens.append(len(data))\n",
    "\n",
    "    i+=1"
   ]
  }
 ],
 "metadata": {
  "kernelspec": {
   "display_name": "Python 3.13 (venv)",
   "language": "python",
   "name": "new3.13"
  },
  "language_info": {
   "codemirror_mode": {
    "name": "ipython",
    "version": 3
   },
   "file_extension": ".py",
   "mimetype": "text/x-python",
   "name": "python",
   "nbconvert_exporter": "python",
   "pygments_lexer": "ipython3",
   "version": "3.13.0"
  }
 },
 "nbformat": 4,
 "nbformat_minor": 2
}
